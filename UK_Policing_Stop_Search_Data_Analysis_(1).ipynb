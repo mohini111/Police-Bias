{
  "nbformat": 4,
  "nbformat_minor": 0,
  "metadata": {
    "kernelspec": {
      "display_name": "Python 3",
      "language": "python",
      "name": "python3"
    },
    "language_info": {
      "codemirror_mode": {
        "name": "ipython",
        "version": 3
      },
      "file_extension": ".py",
      "mimetype": "text/x-python",
      "name": "python",
      "nbconvert_exporter": "python",
      "pygments_lexer": "ipython3",
      "version": "3.8.5"
    },
    "colab": {
      "name": "UK Policing Stop Search Data Analysis (1).ipynb",
      "provenance": [],
      "include_colab_link": true
    }
  },
  "cells": [
    {
      "cell_type": "markdown",
      "metadata": {
        "id": "view-in-github",
        "colab_type": "text"
      },
      "source": [
        "<a href=\"https://colab.research.google.com/github/mohini111/Police-Bias/blob/main/UK_Policing_Stop_Search_Data_Analysis_(1).ipynb\" target=\"_parent\"><img src=\"https://colab.research.google.com/assets/colab-badge.svg\" alt=\"Open In Colab\"/></a>"
      ]
    },
    {
      "cell_type": "markdown",
      "metadata": {
        "id": "46-NmxAJvSzU"
      },
      "source": [
        "### Project Setup "
      ]
    },
    {
      "cell_type": "code",
      "metadata": {
        "id": "vqAVQQKuvSzX"
      },
      "source": [
        "#Importing packages\n",
        "import pandas as pd\n",
        "import numpy as np\n",
        "import matplotlib.pyplot as plt\n",
        "%matplotlib inline"
      ],
      "execution_count": null,
      "outputs": []
    },
    {
      "cell_type": "code",
      "metadata": {
        "id": "N3UC6KmrvSzZ"
      },
      "source": [
        "figsize = (16,8)"
      ],
      "execution_count": null,
      "outputs": []
    },
    {
      "cell_type": "markdown",
      "metadata": {
        "id": "AgCqpC_tvSzZ"
      },
      "source": [
        "### Loading the data "
      ]
    },
    {
      "cell_type": "code",
      "metadata": {
        "id": "gPFA51j8vSza"
      },
      "source": [
        "# Load all the data files\n",
        "import glob\n",
        "\n",
        "df_vt = pd.concat(map(pd.read_csv, glob.glob('*.csv')))"
      ],
      "execution_count": null,
      "outputs": []
    },
    {
      "cell_type": "code",
      "metadata": {
        "id": "40WzbLOIvSza",
        "outputId": "37abc29c-a646-44be-c063-d38a04198bab"
      },
      "source": [
        "df_vt.head()"
      ],
      "execution_count": null,
      "outputs": [
        {
          "output_type": "execute_result",
          "data": {
            "text/html": [
              "<div>\n",
              "<style scoped>\n",
              "    .dataframe tbody tr th:only-of-type {\n",
              "        vertical-align: middle;\n",
              "    }\n",
              "\n",
              "    .dataframe tbody tr th {\n",
              "        vertical-align: top;\n",
              "    }\n",
              "\n",
              "    .dataframe thead th {\n",
              "        text-align: right;\n",
              "    }\n",
              "</style>\n",
              "<table border=\"1\" class=\"dataframe\">\n",
              "  <thead>\n",
              "    <tr style=\"text-align: right;\">\n",
              "      <th></th>\n",
              "      <th>Type</th>\n",
              "      <th>Date</th>\n",
              "      <th>Part of a policing operation</th>\n",
              "      <th>Policing operation</th>\n",
              "      <th>Latitude</th>\n",
              "      <th>Longitude</th>\n",
              "      <th>Gender</th>\n",
              "      <th>Age range</th>\n",
              "      <th>Self-defined ethnicity</th>\n",
              "      <th>Officer-defined ethnicity</th>\n",
              "      <th>Legislation</th>\n",
              "      <th>Object of search</th>\n",
              "      <th>Outcome</th>\n",
              "      <th>Outcome linked to object of search</th>\n",
              "      <th>Removal of more than just outer clothing</th>\n",
              "    </tr>\n",
              "  </thead>\n",
              "  <tbody>\n",
              "    <tr>\n",
              "      <th>0</th>\n",
              "      <td>Person and Vehicle search</td>\n",
              "      <td>2020-07-01T00:00:00+00:00</td>\n",
              "      <td>NaN</td>\n",
              "      <td>NaN</td>\n",
              "      <td>NaN</td>\n",
              "      <td>NaN</td>\n",
              "      <td>Male</td>\n",
              "      <td>18-24</td>\n",
              "      <td>White - English/Welsh/Scottish/Northern Irish/...</td>\n",
              "      <td>White</td>\n",
              "      <td>NaN</td>\n",
              "      <td>NaN</td>\n",
              "      <td>NaN</td>\n",
              "      <td>NaN</td>\n",
              "      <td>NaN</td>\n",
              "    </tr>\n",
              "    <tr>\n",
              "      <th>1</th>\n",
              "      <td>Person and Vehicle search</td>\n",
              "      <td>2020-07-01T00:20:00+00:00</td>\n",
              "      <td>NaN</td>\n",
              "      <td>NaN</td>\n",
              "      <td>NaN</td>\n",
              "      <td>NaN</td>\n",
              "      <td>Male</td>\n",
              "      <td>over 34</td>\n",
              "      <td>White - English/Welsh/Scottish/Northern Irish/...</td>\n",
              "      <td>White</td>\n",
              "      <td>Misuse of Drugs Act 1971 (section 23)</td>\n",
              "      <td>Controlled drugs</td>\n",
              "      <td>A no further action disposal</td>\n",
              "      <td>NaN</td>\n",
              "      <td>False</td>\n",
              "    </tr>\n",
              "    <tr>\n",
              "      <th>2</th>\n",
              "      <td>Person and Vehicle search</td>\n",
              "      <td>2020-07-01T01:15:00+00:00</td>\n",
              "      <td>NaN</td>\n",
              "      <td>NaN</td>\n",
              "      <td>51.475247</td>\n",
              "      <td>-2.545262</td>\n",
              "      <td>Male</td>\n",
              "      <td>18-24</td>\n",
              "      <td>Other ethnic group - Not stated</td>\n",
              "      <td>Asian</td>\n",
              "      <td>Misuse of Drugs Act 1971 (section 23)</td>\n",
              "      <td>Controlled drugs</td>\n",
              "      <td>A no further action disposal</td>\n",
              "      <td>NaN</td>\n",
              "      <td>False</td>\n",
              "    </tr>\n",
              "    <tr>\n",
              "      <th>3</th>\n",
              "      <td>Person and Vehicle search</td>\n",
              "      <td>2020-07-01T02:00:00+00:00</td>\n",
              "      <td>NaN</td>\n",
              "      <td>NaN</td>\n",
              "      <td>51.475247</td>\n",
              "      <td>-2.545262</td>\n",
              "      <td>Male</td>\n",
              "      <td>18-24</td>\n",
              "      <td>Other ethnic group - Not stated</td>\n",
              "      <td>Black</td>\n",
              "      <td>Misuse of Drugs Act 1971 (section 23)</td>\n",
              "      <td>Controlled drugs</td>\n",
              "      <td>A no further action disposal</td>\n",
              "      <td>NaN</td>\n",
              "      <td>False</td>\n",
              "    </tr>\n",
              "    <tr>\n",
              "      <th>4</th>\n",
              "      <td>Person and Vehicle search</td>\n",
              "      <td>2020-07-01T02:06:00+00:00</td>\n",
              "      <td>NaN</td>\n",
              "      <td>NaN</td>\n",
              "      <td>51.464083</td>\n",
              "      <td>-2.510667</td>\n",
              "      <td>Male</td>\n",
              "      <td>over 34</td>\n",
              "      <td>NaN</td>\n",
              "      <td>NaN</td>\n",
              "      <td>Misuse of Drugs Act 1971 (section 23)</td>\n",
              "      <td>Controlled drugs</td>\n",
              "      <td>A no further action disposal</td>\n",
              "      <td>NaN</td>\n",
              "      <td>False</td>\n",
              "    </tr>\n",
              "  </tbody>\n",
              "</table>\n",
              "</div>"
            ],
            "text/plain": [
              "                        Type                       Date  \\\n",
              "0  Person and Vehicle search  2020-07-01T00:00:00+00:00   \n",
              "1  Person and Vehicle search  2020-07-01T00:20:00+00:00   \n",
              "2  Person and Vehicle search  2020-07-01T01:15:00+00:00   \n",
              "3  Person and Vehicle search  2020-07-01T02:00:00+00:00   \n",
              "4  Person and Vehicle search  2020-07-01T02:06:00+00:00   \n",
              "\n",
              "  Part of a policing operation  Policing operation   Latitude  Longitude  \\\n",
              "0                          NaN                 NaN        NaN        NaN   \n",
              "1                          NaN                 NaN        NaN        NaN   \n",
              "2                          NaN                 NaN  51.475247  -2.545262   \n",
              "3                          NaN                 NaN  51.475247  -2.545262   \n",
              "4                          NaN                 NaN  51.464083  -2.510667   \n",
              "\n",
              "  Gender Age range                             Self-defined ethnicity  \\\n",
              "0   Male     18-24  White - English/Welsh/Scottish/Northern Irish/...   \n",
              "1   Male   over 34  White - English/Welsh/Scottish/Northern Irish/...   \n",
              "2   Male     18-24                    Other ethnic group - Not stated   \n",
              "3   Male     18-24                    Other ethnic group - Not stated   \n",
              "4   Male   over 34                                                NaN   \n",
              "\n",
              "  Officer-defined ethnicity                            Legislation  \\\n",
              "0                     White                                    NaN   \n",
              "1                     White  Misuse of Drugs Act 1971 (section 23)   \n",
              "2                     Asian  Misuse of Drugs Act 1971 (section 23)   \n",
              "3                     Black  Misuse of Drugs Act 1971 (section 23)   \n",
              "4                       NaN  Misuse of Drugs Act 1971 (section 23)   \n",
              "\n",
              "   Object of search                       Outcome  \\\n",
              "0               NaN                           NaN   \n",
              "1  Controlled drugs  A no further action disposal   \n",
              "2  Controlled drugs  A no further action disposal   \n",
              "3  Controlled drugs  A no further action disposal   \n",
              "4  Controlled drugs  A no further action disposal   \n",
              "\n",
              "  Outcome linked to object of search Removal of more than just outer clothing  \n",
              "0                                NaN                                      NaN  \n",
              "1                                NaN                                    False  \n",
              "2                                NaN                                    False  \n",
              "3                                NaN                                    False  \n",
              "4                                NaN                                    False  "
            ]
          },
          "metadata": {
            "tags": []
          },
          "execution_count": 4
        }
      ]
    },
    {
      "cell_type": "code",
      "metadata": {
        "id": "-o7S8uCEvSzb",
        "outputId": "5a45c73b-c273-435d-b734-6a2ba72bd6c6"
      },
      "source": [
        "df_vt.columns"
      ],
      "execution_count": null,
      "outputs": [
        {
          "output_type": "execute_result",
          "data": {
            "text/plain": [
              "Index(['Type', 'Date', 'Part of a policing operation', 'Policing operation',\n",
              "       'Latitude', 'Longitude', 'Gender', 'Age range',\n",
              "       'Self-defined ethnicity', 'Officer-defined ethnicity', 'Legislation',\n",
              "       'Object of search', 'Outcome', 'Outcome linked to object of search',\n",
              "       'Removal of more than just outer clothing'],\n",
              "      dtype='object')"
            ]
          },
          "metadata": {
            "tags": []
          },
          "execution_count": 5
        }
      ]
    },
    {
      "cell_type": "markdown",
      "metadata": {
        "id": "U9-AhOBmvSzc"
      },
      "source": [
        "### Cleaning the dataset"
      ]
    },
    {
      "cell_type": "code",
      "metadata": {
        "id": "zdVo-Ti0vSzc",
        "outputId": "f694783e-158d-419a-e68d-9a36353c0cb7"
      },
      "source": [
        "df_vt.count()"
      ],
      "execution_count": null,
      "outputs": [
        {
          "output_type": "execute_result",
          "data": {
            "text/plain": [
              "Type                                        28444\n",
              "Date                                        28444\n",
              "Part of a policing operation                 7183\n",
              "Policing operation                              0\n",
              "Latitude                                    23294\n",
              "Longitude                                   23294\n",
              "Gender                                      26212\n",
              "Age range                                   25960\n",
              "Self-defined ethnicity                      25542\n",
              "Officer-defined ethnicity                   25568\n",
              "Legislation                                 28082\n",
              "Object of search                            27930\n",
              "Outcome                                     27620\n",
              "Outcome linked to object of search          16298\n",
              "Removal of more than just outer clothing    24484\n",
              "dtype: int64"
            ]
          },
          "metadata": {
            "tags": []
          },
          "execution_count": 6
        }
      ]
    },
    {
      "cell_type": "code",
      "metadata": {
        "id": "LnYcmwcOvSzd",
        "outputId": "34316105-f1f6-447a-a919-dd8021443b56"
      },
      "source": [
        "df_vt.shape"
      ],
      "execution_count": null,
      "outputs": [
        {
          "output_type": "execute_result",
          "data": {
            "text/plain": [
              "(28444, 15)"
            ]
          },
          "metadata": {
            "tags": []
          },
          "execution_count": 7
        }
      ]
    },
    {
      "cell_type": "code",
      "metadata": {
        "id": "PJ_BuIL-vSzd",
        "outputId": "5a0ba6da-f7e7-413b-dec9-9b2e82e6be35"
      },
      "source": [
        "df_vt.info()"
      ],
      "execution_count": null,
      "outputs": [
        {
          "output_type": "stream",
          "text": [
            "<class 'pandas.core.frame.DataFrame'>\n",
            "Int64Index: 28444 entries, 0 to 673\n",
            "Data columns (total 15 columns):\n",
            " #   Column                                    Non-Null Count  Dtype  \n",
            "---  ------                                    --------------  -----  \n",
            " 0   Type                                      28444 non-null  object \n",
            " 1   Date                                      28444 non-null  object \n",
            " 2   Part of a policing operation              7183 non-null   object \n",
            " 3   Policing operation                        0 non-null      float64\n",
            " 4   Latitude                                  23294 non-null  float64\n",
            " 5   Longitude                                 23294 non-null  float64\n",
            " 6   Gender                                    26212 non-null  object \n",
            " 7   Age range                                 25960 non-null  object \n",
            " 8   Self-defined ethnicity                    25542 non-null  object \n",
            " 9   Officer-defined ethnicity                 25568 non-null  object \n",
            " 10  Legislation                               28082 non-null  object \n",
            " 11  Object of search                          27930 non-null  object \n",
            " 12  Outcome                                   27620 non-null  object \n",
            " 13  Outcome linked to object of search        16298 non-null  object \n",
            " 14  Removal of more than just outer clothing  24484 non-null  object \n",
            "dtypes: float64(3), object(12)\n",
            "memory usage: 3.5+ MB\n"
          ],
          "name": "stdout"
        }
      ]
    },
    {
      "cell_type": "code",
      "metadata": {
        "id": "5rJhQV9gvSze"
      },
      "source": [
        "# Fill missing search type values with placeholder\n",
        "df_vt.fillna('N/A', inplace=True)\n",
        "\n",
        "# Drop columns with missing values\n",
        "df_vt.dropna(axis=1, inplace=True)"
      ],
      "execution_count": null,
      "outputs": []
    },
    {
      "cell_type": "code",
      "metadata": {
        "id": "daLUyDc1vSzf",
        "outputId": "145ce435-08cd-488a-cb08-0d05a95abf77"
      },
      "source": [
        "df_vt.count()"
      ],
      "execution_count": null,
      "outputs": [
        {
          "output_type": "execute_result",
          "data": {
            "text/plain": [
              "Type                                        28444\n",
              "Date                                        28444\n",
              "Part of a policing operation                28444\n",
              "Policing operation                          28444\n",
              "Latitude                                    28444\n",
              "Longitude                                   28444\n",
              "Gender                                      28444\n",
              "Age range                                   28444\n",
              "Self-defined ethnicity                      28444\n",
              "Officer-defined ethnicity                   28444\n",
              "Legislation                                 28444\n",
              "Object of search                            28444\n",
              "Outcome                                     28444\n",
              "Outcome linked to object of search          28444\n",
              "Removal of more than just outer clothing    28444\n",
              "dtype: int64"
            ]
          },
          "metadata": {
            "tags": []
          },
          "execution_count": 10
        }
      ]
    },
    {
      "cell_type": "markdown",
      "metadata": {
        "id": "Z__Jm5QKvSzf"
      },
      "source": [
        "### Stops By Gender"
      ]
    },
    {
      "cell_type": "code",
      "metadata": {
        "id": "DTAs0INSvSzg",
        "outputId": "f3b8644d-8c02-4409-9e19-26a9bcff68f4"
      },
      "source": [
        "df_vt['Gender'].value_counts()"
      ],
      "execution_count": null,
      "outputs": [
        {
          "output_type": "execute_result",
          "data": {
            "text/plain": [
              "Male      23230\n",
              "Female     2981\n",
              "N/A        2232\n",
              "Other         1\n",
              "Name: Gender, dtype: int64"
            ]
          },
          "metadata": {
            "tags": []
          },
          "execution_count": 11
        }
      ]
    },
    {
      "cell_type": "markdown",
      "metadata": {
        "id": "EDZK9AbjvSzg"
      },
      "source": [
        "### Part of a policing operation "
      ]
    },
    {
      "cell_type": "code",
      "metadata": {
        "id": "MvWEA95pvSzh",
        "outputId": "7f5d7a83-f55f-4c6c-a032-df2673c7aac3"
      },
      "source": [
        "df_vt['Part of a policing operation'].value_counts()"
      ],
      "execution_count": null,
      "outputs": [
        {
          "output_type": "execute_result",
          "data": {
            "text/plain": [
              "N/A      21261\n",
              "False     6727\n",
              "True       456\n",
              "Name: Part of a policing operation, dtype: int64"
            ]
          },
          "metadata": {
            "tags": []
          },
          "execution_count": 12
        }
      ]
    },
    {
      "cell_type": "markdown",
      "metadata": {
        "id": "1kW5Z_NAvSzh"
      },
      "source": [
        "### Stops By Self-defined ethnicity "
      ]
    },
    {
      "cell_type": "code",
      "metadata": {
        "id": "A9vn2IOdvSzh",
        "outputId": "38873f5b-a212-4173-e973-9720106d5e8b"
      },
      "source": [
        "df_vt['Self-defined ethnicity'].value_counts()"
      ],
      "execution_count": null,
      "outputs": [
        {
          "output_type": "execute_result",
          "data": {
            "text/plain": [
              "White - English/Welsh/Scottish/Northern Irish/British                                   14848\n",
              "Other ethnic group - Not stated                                                          4704\n",
              "N/A                                                                                      2902\n",
              "White - Any other White background                                                       1354\n",
              "Black/African/Caribbean/Black British - African                                           864\n",
              "Asian/Asian British - Any other Asian background                                          636\n",
              "Black/African/Caribbean/Black British - Any other Black/African/Caribbean background      569\n",
              "Black/African/Caribbean/Black British - Caribbean                                         557\n",
              "Asian/Asian British - Pakistani                                                           452\n",
              "Mixed/Multiple ethnic groups - Any other Mixed/Multiple ethnic background                 276\n",
              "Mixed/Multiple ethnic groups - White and Black Caribbean                                  257\n",
              "Other ethnic group - Any other ethnic group                                               213\n",
              "Asian/Asian British - Bangladeshi                                                         211\n",
              "White - Irish                                                                             161\n",
              "Asian/Asian British - Indian                                                              140\n",
              "White - Gypsy or Irish Traveller                                                           96\n",
              "Mixed/Multiple ethnic groups - White and Black African                                     95\n",
              "Mixed/Multiple ethnic groups - White and Asian                                             87\n",
              "Asian/Asian British - Chinese                                                              19\n",
              "Other ethnic group - Arab                                                                   3\n",
              "Name: Self-defined ethnicity, dtype: int64"
            ]
          },
          "metadata": {
            "tags": []
          },
          "execution_count": 13
        }
      ]
    },
    {
      "cell_type": "markdown",
      "metadata": {
        "id": "vQjoLEaLvSzi"
      },
      "source": [
        "### Stops By Officer-defined ethnicity "
      ]
    },
    {
      "cell_type": "code",
      "metadata": {
        "id": "p74WSz92vSzi",
        "outputId": "62f09484-7b32-41cc-b653-06627528cab2"
      },
      "source": [
        "df_vt['Officer-defined ethnicity'].value_counts()"
      ],
      "execution_count": null,
      "outputs": [
        {
          "output_type": "execute_result",
          "data": {
            "text/plain": [
              "White    19434\n",
              "Black     3308\n",
              "N/A       2876\n",
              "Asian     2089\n",
              "Other      524\n",
              "Mixed      213\n",
              "Name: Officer-defined ethnicity, dtype: int64"
            ]
          },
          "metadata": {
            "tags": []
          },
          "execution_count": 14
        }
      ]
    },
    {
      "cell_type": "markdown",
      "metadata": {
        "id": "FlhywoHgvSzj"
      },
      "source": [
        "### Stop Outcomes "
      ]
    },
    {
      "cell_type": "code",
      "metadata": {
        "id": "ccZurgFKvSzj",
        "outputId": "0916eeb2-85c2-47b0-f754-6a817256a724"
      },
      "source": [
        "df_vt['Outcome'].value_counts()"
      ],
      "execution_count": null,
      "outputs": [
        {
          "output_type": "execute_result",
          "data": {
            "text/plain": [
              "A no further action disposal       20767\n",
              "Arrest                              3586\n",
              "Community resolution                1582\n",
              "N/A                                  824\n",
              "Khat or Cannabis warning             809\n",
              "Summons / charged by post            755\n",
              "Caution (simple or conditional)       89\n",
              "Penalty Notice for Disorder           32\n",
              "Name: Outcome, dtype: int64"
            ]
          },
          "metadata": {
            "tags": []
          },
          "execution_count": 15
        }
      ]
    },
    {
      "cell_type": "markdown",
      "metadata": {
        "id": "uIRV2ezRvSzj"
      },
      "source": [
        "### Stops By Age "
      ]
    },
    {
      "cell_type": "code",
      "metadata": {
        "id": "bZEWUT_FvSzk",
        "outputId": "489b6ef4-d756-4964-9e89-3aaf9f115bb3"
      },
      "source": [
        "df_vt['Age range'].value_counts()"
      ],
      "execution_count": null,
      "outputs": [
        {
          "output_type": "execute_result",
          "data": {
            "text/plain": [
              "18-24       8324\n",
              "25-34       6273\n",
              "over 34     6255\n",
              "10-17       5048\n",
              "N/A         2484\n",
              "under 10      60\n",
              "Name: Age range, dtype: int64"
            ]
          },
          "metadata": {
            "tags": []
          },
          "execution_count": 16
        }
      ]
    },
    {
      "cell_type": "markdown",
      "metadata": {
        "id": "h_ZfqG-FvSzk"
      },
      "source": [
        "### Analyze Outcomes data"
      ]
    },
    {
      "cell_type": "code",
      "metadata": {
        "id": "ihDm0E6RvSzk",
        "outputId": "062777f1-9b81-482c-fb34-780cfad3f38f"
      },
      "source": [
        "df_vt['Outcome'].value_counts()"
      ],
      "execution_count": null,
      "outputs": [
        {
          "output_type": "execute_result",
          "data": {
            "text/plain": [
              "A no further action disposal       20767\n",
              "Arrest                              3586\n",
              "Community resolution                1582\n",
              "N/A                                  824\n",
              "Khat or Cannabis warning             809\n",
              "Summons / charged by post            755\n",
              "Caution (simple or conditional)       89\n",
              "Penalty Notice for Disorder           32\n",
              "Name: Outcome, dtype: int64"
            ]
          },
          "metadata": {
            "tags": []
          },
          "execution_count": 17
        }
      ]
    },
    {
      "cell_type": "code",
      "metadata": {
        "id": "7L2bQqbivSzl"
      },
      "source": [
        "def compute_outcome_stats(df):\n",
        "    \"\"\"Compute statistics regarding the relative quanties of arrests, warnings, and citations\"\"\"\n",
        "    n_total = len(df)\n",
        "    n_disposals = len(df[df['Outcome'] == 'A no further action disposal'])\n",
        "    n_arrests = len(df[df['Outcome'] == 'Arrest'])\n",
        "    n_comminity_resolutions = len(df[df['Outcome'] == 'Community resolution'])\n",
        "    n_khat_cannabis_warnings = len(df[df['Outcome'] == 'Khat or Cannabis warning'])\n",
        "    n_summons = len(df[df['Outcome'] == 'Summons / charged by post'])\n",
        "    n_cautions = len(df[df['Outcome'] == 'Caution (simple or conditional)'])\n",
        "    n_notices = len(df[df['Outcome'] == 'Penalty Notice for Disorder'])\n",
        "    \n",
        "    arrest_rate = n_arrests / n_total\n",
        "    \n",
        "    return(pd.Series(data = { \n",
        "        'n_total': n_total,\n",
        "        'n_disposals': n_disposals,\n",
        "        'n_arrests': n_arrests,\n",
        "        'n_comminity_resolutions':n_comminity_resolutions,\n",
        "        'n_khat_cannabis_warnings':n_khat_cannabis_warnings,\n",
        "        'n_summons':n_summons,\n",
        "        'n_cautions':n_cautions,\n",
        "        'n_notices':n_notices,\n",
        "        'arrest_rate': arrest_rate\n",
        "    }))"
      ],
      "execution_count": null,
      "outputs": []
    },
    {
      "cell_type": "code",
      "metadata": {
        "id": "zGYi0_yKvSzm",
        "outputId": "af86a592-38e0-4969-e46a-d72782e8e5e2"
      },
      "source": [
        "compute_outcome_stats(df_vt)"
      ],
      "execution_count": null,
      "outputs": [
        {
          "output_type": "execute_result",
          "data": {
            "text/plain": [
              "n_total                     28444.000000\n",
              "n_disposals                 20767.000000\n",
              "n_arrests                    3586.000000\n",
              "n_comminity_resolutions      1582.000000\n",
              "n_khat_cannabis_warnings      809.000000\n",
              "n_summons                     755.000000\n",
              "n_cautions                     89.000000\n",
              "n_notices                      32.000000\n",
              "arrest_rate                     0.126072\n",
              "dtype: float64"
            ]
          },
          "metadata": {
            "tags": []
          },
          "execution_count": 19
        }
      ]
    },
    {
      "cell_type": "markdown",
      "metadata": {
        "id": "w2ZPp1guvSzm"
      },
      "source": [
        "### Breakdown By Gender"
      ]
    },
    {
      "cell_type": "code",
      "metadata": {
        "id": "0wgQur0GvSzm",
        "outputId": "8bfd0762-df64-407e-99f7-9500d53eff23"
      },
      "source": [
        "df_vt.groupby('Gender').apply(compute_outcome_stats)"
      ],
      "execution_count": null,
      "outputs": [
        {
          "output_type": "execute_result",
          "data": {
            "text/html": [
              "<div>\n",
              "<style scoped>\n",
              "    .dataframe tbody tr th:only-of-type {\n",
              "        vertical-align: middle;\n",
              "    }\n",
              "\n",
              "    .dataframe tbody tr th {\n",
              "        vertical-align: top;\n",
              "    }\n",
              "\n",
              "    .dataframe thead th {\n",
              "        text-align: right;\n",
              "    }\n",
              "</style>\n",
              "<table border=\"1\" class=\"dataframe\">\n",
              "  <thead>\n",
              "    <tr style=\"text-align: right;\">\n",
              "      <th></th>\n",
              "      <th>n_total</th>\n",
              "      <th>n_disposals</th>\n",
              "      <th>n_arrests</th>\n",
              "      <th>n_comminity_resolutions</th>\n",
              "      <th>n_khat_cannabis_warnings</th>\n",
              "      <th>n_summons</th>\n",
              "      <th>n_cautions</th>\n",
              "      <th>n_notices</th>\n",
              "      <th>arrest_rate</th>\n",
              "    </tr>\n",
              "    <tr>\n",
              "      <th>Gender</th>\n",
              "      <th></th>\n",
              "      <th></th>\n",
              "      <th></th>\n",
              "      <th></th>\n",
              "      <th></th>\n",
              "      <th></th>\n",
              "      <th></th>\n",
              "      <th></th>\n",
              "      <th></th>\n",
              "    </tr>\n",
              "  </thead>\n",
              "  <tbody>\n",
              "    <tr>\n",
              "      <th>Female</th>\n",
              "      <td>2981.0</td>\n",
              "      <td>2252.0</td>\n",
              "      <td>344.0</td>\n",
              "      <td>175.0</td>\n",
              "      <td>66.0</td>\n",
              "      <td>56.0</td>\n",
              "      <td>7.0</td>\n",
              "      <td>4.0</td>\n",
              "      <td>0.115398</td>\n",
              "    </tr>\n",
              "    <tr>\n",
              "      <th>Male</th>\n",
              "      <td>23230.0</td>\n",
              "      <td>16938.0</td>\n",
              "      <td>2990.0</td>\n",
              "      <td>1349.0</td>\n",
              "      <td>694.0</td>\n",
              "      <td>643.0</td>\n",
              "      <td>74.0</td>\n",
              "      <td>24.0</td>\n",
              "      <td>0.128713</td>\n",
              "    </tr>\n",
              "    <tr>\n",
              "      <th>N/A</th>\n",
              "      <td>2232.0</td>\n",
              "      <td>1576.0</td>\n",
              "      <td>252.0</td>\n",
              "      <td>58.0</td>\n",
              "      <td>49.0</td>\n",
              "      <td>56.0</td>\n",
              "      <td>8.0</td>\n",
              "      <td>4.0</td>\n",
              "      <td>0.112903</td>\n",
              "    </tr>\n",
              "    <tr>\n",
              "      <th>Other</th>\n",
              "      <td>1.0</td>\n",
              "      <td>1.0</td>\n",
              "      <td>0.0</td>\n",
              "      <td>0.0</td>\n",
              "      <td>0.0</td>\n",
              "      <td>0.0</td>\n",
              "      <td>0.0</td>\n",
              "      <td>0.0</td>\n",
              "      <td>0.000000</td>\n",
              "    </tr>\n",
              "  </tbody>\n",
              "</table>\n",
              "</div>"
            ],
            "text/plain": [
              "        n_total  n_disposals  n_arrests  n_comminity_resolutions  \\\n",
              "Gender                                                             \n",
              "Female   2981.0       2252.0      344.0                    175.0   \n",
              "Male    23230.0      16938.0     2990.0                   1349.0   \n",
              "N/A      2232.0       1576.0      252.0                     58.0   \n",
              "Other       1.0          1.0        0.0                      0.0   \n",
              "\n",
              "        n_khat_cannabis_warnings  n_summons  n_cautions  n_notices  \\\n",
              "Gender                                                               \n",
              "Female                      66.0       56.0         7.0        4.0   \n",
              "Male                       694.0      643.0        74.0       24.0   \n",
              "N/A                         49.0       56.0         8.0        4.0   \n",
              "Other                        0.0        0.0         0.0        0.0   \n",
              "\n",
              "        arrest_rate  \n",
              "Gender               \n",
              "Female     0.115398  \n",
              "Male       0.128713  \n",
              "N/A        0.112903  \n",
              "Other      0.000000  "
            ]
          },
          "metadata": {
            "tags": []
          },
          "execution_count": 20
        }
      ]
    },
    {
      "cell_type": "markdown",
      "metadata": {
        "id": "Xo0UIVksvSzn"
      },
      "source": [
        "### Breakdown By Ethicity "
      ]
    },
    {
      "cell_type": "code",
      "metadata": {
        "id": "OzmxTxkwvSzn",
        "outputId": "ca8d56b2-226c-48d6-eebe-230e2bbc8a3f"
      },
      "source": [
        "df_vt.groupby('Officer-defined ethnicity').apply(compute_outcome_stats)"
      ],
      "execution_count": null,
      "outputs": [
        {
          "output_type": "execute_result",
          "data": {
            "text/html": [
              "<div>\n",
              "<style scoped>\n",
              "    .dataframe tbody tr th:only-of-type {\n",
              "        vertical-align: middle;\n",
              "    }\n",
              "\n",
              "    .dataframe tbody tr th {\n",
              "        vertical-align: top;\n",
              "    }\n",
              "\n",
              "    .dataframe thead th {\n",
              "        text-align: right;\n",
              "    }\n",
              "</style>\n",
              "<table border=\"1\" class=\"dataframe\">\n",
              "  <thead>\n",
              "    <tr style=\"text-align: right;\">\n",
              "      <th></th>\n",
              "      <th>n_total</th>\n",
              "      <th>n_disposals</th>\n",
              "      <th>n_arrests</th>\n",
              "      <th>n_comminity_resolutions</th>\n",
              "      <th>n_khat_cannabis_warnings</th>\n",
              "      <th>n_summons</th>\n",
              "      <th>n_cautions</th>\n",
              "      <th>n_notices</th>\n",
              "      <th>arrest_rate</th>\n",
              "    </tr>\n",
              "    <tr>\n",
              "      <th>Officer-defined ethnicity</th>\n",
              "      <th></th>\n",
              "      <th></th>\n",
              "      <th></th>\n",
              "      <th></th>\n",
              "      <th></th>\n",
              "      <th></th>\n",
              "      <th></th>\n",
              "      <th></th>\n",
              "      <th></th>\n",
              "    </tr>\n",
              "  </thead>\n",
              "  <tbody>\n",
              "    <tr>\n",
              "      <th>Asian</th>\n",
              "      <td>2089.0</td>\n",
              "      <td>1534.0</td>\n",
              "      <td>238.0</td>\n",
              "      <td>136.0</td>\n",
              "      <td>71.0</td>\n",
              "      <td>82.0</td>\n",
              "      <td>4.0</td>\n",
              "      <td>5.0</td>\n",
              "      <td>0.113930</td>\n",
              "    </tr>\n",
              "    <tr>\n",
              "      <th>Black</th>\n",
              "      <td>3308.0</td>\n",
              "      <td>2480.0</td>\n",
              "      <td>426.0</td>\n",
              "      <td>150.0</td>\n",
              "      <td>66.0</td>\n",
              "      <td>138.0</td>\n",
              "      <td>9.0</td>\n",
              "      <td>1.0</td>\n",
              "      <td>0.128779</td>\n",
              "    </tr>\n",
              "    <tr>\n",
              "      <th>Mixed</th>\n",
              "      <td>213.0</td>\n",
              "      <td>156.0</td>\n",
              "      <td>33.0</td>\n",
              "      <td>6.0</td>\n",
              "      <td>8.0</td>\n",
              "      <td>6.0</td>\n",
              "      <td>0.0</td>\n",
              "      <td>0.0</td>\n",
              "      <td>0.154930</td>\n",
              "    </tr>\n",
              "    <tr>\n",
              "      <th>N/A</th>\n",
              "      <td>2876.0</td>\n",
              "      <td>1964.0</td>\n",
              "      <td>269.0</td>\n",
              "      <td>179.0</td>\n",
              "      <td>46.0</td>\n",
              "      <td>60.0</td>\n",
              "      <td>11.0</td>\n",
              "      <td>2.0</td>\n",
              "      <td>0.093533</td>\n",
              "    </tr>\n",
              "    <tr>\n",
              "      <th>Other</th>\n",
              "      <td>524.0</td>\n",
              "      <td>388.0</td>\n",
              "      <td>76.0</td>\n",
              "      <td>20.0</td>\n",
              "      <td>12.0</td>\n",
              "      <td>16.0</td>\n",
              "      <td>2.0</td>\n",
              "      <td>2.0</td>\n",
              "      <td>0.145038</td>\n",
              "    </tr>\n",
              "    <tr>\n",
              "      <th>White</th>\n",
              "      <td>19434.0</td>\n",
              "      <td>14245.0</td>\n",
              "      <td>2544.0</td>\n",
              "      <td>1091.0</td>\n",
              "      <td>606.0</td>\n",
              "      <td>453.0</td>\n",
              "      <td>63.0</td>\n",
              "      <td>22.0</td>\n",
              "      <td>0.130905</td>\n",
              "    </tr>\n",
              "  </tbody>\n",
              "</table>\n",
              "</div>"
            ],
            "text/plain": [
              "                           n_total  n_disposals  n_arrests  \\\n",
              "Officer-defined ethnicity                                    \n",
              "Asian                       2089.0       1534.0      238.0   \n",
              "Black                       3308.0       2480.0      426.0   \n",
              "Mixed                        213.0        156.0       33.0   \n",
              "N/A                         2876.0       1964.0      269.0   \n",
              "Other                        524.0        388.0       76.0   \n",
              "White                      19434.0      14245.0     2544.0   \n",
              "\n",
              "                           n_comminity_resolutions  n_khat_cannabis_warnings  \\\n",
              "Officer-defined ethnicity                                                      \n",
              "Asian                                        136.0                      71.0   \n",
              "Black                                        150.0                      66.0   \n",
              "Mixed                                          6.0                       8.0   \n",
              "N/A                                          179.0                      46.0   \n",
              "Other                                         20.0                      12.0   \n",
              "White                                       1091.0                     606.0   \n",
              "\n",
              "                           n_summons  n_cautions  n_notices  arrest_rate  \n",
              "Officer-defined ethnicity                                                 \n",
              "Asian                           82.0         4.0        5.0     0.113930  \n",
              "Black                          138.0         9.0        1.0     0.128779  \n",
              "Mixed                            6.0         0.0        0.0     0.154930  \n",
              "N/A                             60.0        11.0        2.0     0.093533  \n",
              "Other                           16.0         2.0        2.0     0.145038  \n",
              "White                          453.0        63.0       22.0     0.130905  "
            ]
          },
          "metadata": {
            "tags": []
          },
          "execution_count": 21
        }
      ]
    },
    {
      "cell_type": "code",
      "metadata": {
        "id": "DdwdYnqFvSzo",
        "outputId": "092e42e2-c524-4e0f-abfa-0afc5877f999"
      },
      "source": [
        "ethnicity_agg = df_vt.groupby(['Officer-defined ethnicity']).apply(compute_outcome_stats)\n",
        "fig, axes = plt.subplots(nrows=2, ncols=1, figsize=figsize)\n",
        "ethnicity_agg['n_summons'].plot.barh(ax=axes[0], figsize=figsize, title=\"Summons By ethnicity\")\n",
        "ethnicity_agg['arrest_rate'].plot.barh(ax=axes[1], figsize=figsize, title='Arrest Rate By ethnicity')"
      ],
      "execution_count": null,
      "outputs": [
        {
          "output_type": "execute_result",
          "data": {
            "text/plain": [
              "<AxesSubplot:title={'center':'Arrest Rate By ethnicity'}, ylabel='Officer-defined ethnicity'>"
            ]
          },
          "metadata": {
            "tags": []
          },
          "execution_count": 22
        },
        {
          "output_type": "display_data",
          "data": {
            "image/png": "[encoded data removed]",
            "text/plain": [
              "<Figure size 1152x576 with 2 Axes>"
            ]
          },
          "metadata": {
            "tags": [],
            "needs_background": "light"
          }
        }
      ]
    },
    {
      "cell_type": "markdown",
      "metadata": {
        "id": "lgnMDyctvSzo"
      },
      "source": [
        "### Group By Ethnicity and Object of Search"
      ]
    },
    {
      "cell_type": "code",
      "metadata": {
        "id": "NcBjnd_6vSzo",
        "outputId": "c1d6fadd-7a2c-43de-f28b-60831a034aa1"
      },
      "source": [
        "df_vt.groupby(['Officer-defined ethnicity','Object of search']).apply(compute_outcome_stats)"
      ],
      "execution_count": null,
      "outputs": [
        {
          "output_type": "execute_result",
          "data": {
            "text/html": [
              "<div>\n",
              "<style scoped>\n",
              "    .dataframe tbody tr th:only-of-type {\n",
              "        vertical-align: middle;\n",
              "    }\n",
              "\n",
              "    .dataframe tbody tr th {\n",
              "        vertical-align: top;\n",
              "    }\n",
              "\n",
              "    .dataframe thead th {\n",
              "        text-align: right;\n",
              "    }\n",
              "</style>\n",
              "<table border=\"1\" class=\"dataframe\">\n",
              "  <thead>\n",
              "    <tr style=\"text-align: right;\">\n",
              "      <th></th>\n",
              "      <th></th>\n",
              "      <th>n_total</th>\n",
              "      <th>n_disposals</th>\n",
              "      <th>n_arrests</th>\n",
              "      <th>n_comminity_resolutions</th>\n",
              "      <th>n_khat_cannabis_warnings</th>\n",
              "      <th>n_summons</th>\n",
              "      <th>n_cautions</th>\n",
              "      <th>n_notices</th>\n",
              "      <th>arrest_rate</th>\n",
              "    </tr>\n",
              "    <tr>\n",
              "      <th>Officer-defined ethnicity</th>\n",
              "      <th>Object of search</th>\n",
              "      <th></th>\n",
              "      <th></th>\n",
              "      <th></th>\n",
              "      <th></th>\n",
              "      <th></th>\n",
              "      <th></th>\n",
              "      <th></th>\n",
              "      <th></th>\n",
              "      <th></th>\n",
              "    </tr>\n",
              "  </thead>\n",
              "  <tbody>\n",
              "    <tr>\n",
              "      <th rowspan=\"5\" valign=\"top\">Asian</th>\n",
              "      <th>Anything to threaten or harm anyone</th>\n",
              "      <td>63.0</td>\n",
              "      <td>55.0</td>\n",
              "      <td>8.0</td>\n",
              "      <td>0.0</td>\n",
              "      <td>0.0</td>\n",
              "      <td>0.0</td>\n",
              "      <td>0.0</td>\n",
              "      <td>0.0</td>\n",
              "      <td>0.126984</td>\n",
              "    </tr>\n",
              "    <tr>\n",
              "      <th>Article for use in theft</th>\n",
              "      <td>101.0</td>\n",
              "      <td>80.0</td>\n",
              "      <td>11.0</td>\n",
              "      <td>7.0</td>\n",
              "      <td>1.0</td>\n",
              "      <td>2.0</td>\n",
              "      <td>0.0</td>\n",
              "      <td>0.0</td>\n",
              "      <td>0.108911</td>\n",
              "    </tr>\n",
              "    <tr>\n",
              "      <th>Articles for use in criminal damage</th>\n",
              "      <td>8.0</td>\n",
              "      <td>7.0</td>\n",
              "      <td>1.0</td>\n",
              "      <td>0.0</td>\n",
              "      <td>0.0</td>\n",
              "      <td>0.0</td>\n",
              "      <td>0.0</td>\n",
              "      <td>0.0</td>\n",
              "      <td>0.125000</td>\n",
              "    </tr>\n",
              "    <tr>\n",
              "      <th>Controlled drugs</th>\n",
              "      <td>1633.0</td>\n",
              "      <td>1148.0</td>\n",
              "      <td>191.0</td>\n",
              "      <td>124.0</td>\n",
              "      <td>70.0</td>\n",
              "      <td>77.0</td>\n",
              "      <td>3.0</td>\n",
              "      <td>5.0</td>\n",
              "      <td>0.116963</td>\n",
              "    </tr>\n",
              "    <tr>\n",
              "      <th>Detailed object of search unavailable</th>\n",
              "      <td>3.0</td>\n",
              "      <td>3.0</td>\n",
              "      <td>0.0</td>\n",
              "      <td>0.0</td>\n",
              "      <td>0.0</td>\n",
              "      <td>0.0</td>\n",
              "      <td>0.0</td>\n",
              "      <td>0.0</td>\n",
              "      <td>0.000000</td>\n",
              "    </tr>\n",
              "    <tr>\n",
              "      <th>...</th>\n",
              "      <th>...</th>\n",
              "      <td>...</td>\n",
              "      <td>...</td>\n",
              "      <td>...</td>\n",
              "      <td>...</td>\n",
              "      <td>...</td>\n",
              "      <td>...</td>\n",
              "      <td>...</td>\n",
              "      <td>...</td>\n",
              "      <td>...</td>\n",
              "    </tr>\n",
              "    <tr>\n",
              "      <th rowspan=\"5\" valign=\"top\">White</th>\n",
              "      <th>Goods on which duty has not been paid etc.</th>\n",
              "      <td>15.0</td>\n",
              "      <td>13.0</td>\n",
              "      <td>1.0</td>\n",
              "      <td>0.0</td>\n",
              "      <td>0.0</td>\n",
              "      <td>1.0</td>\n",
              "      <td>0.0</td>\n",
              "      <td>0.0</td>\n",
              "      <td>0.066667</td>\n",
              "    </tr>\n",
              "    <tr>\n",
              "      <th>N/A</th>\n",
              "      <td>312.0</td>\n",
              "      <td>182.0</td>\n",
              "      <td>31.0</td>\n",
              "      <td>5.0</td>\n",
              "      <td>1.0</td>\n",
              "      <td>1.0</td>\n",
              "      <td>0.0</td>\n",
              "      <td>0.0</td>\n",
              "      <td>0.099359</td>\n",
              "    </tr>\n",
              "    <tr>\n",
              "      <th>Offensive weapons</th>\n",
              "      <td>1913.0</td>\n",
              "      <td>1494.0</td>\n",
              "      <td>327.0</td>\n",
              "      <td>39.0</td>\n",
              "      <td>13.0</td>\n",
              "      <td>9.0</td>\n",
              "      <td>1.0</td>\n",
              "      <td>0.0</td>\n",
              "      <td>0.170936</td>\n",
              "    </tr>\n",
              "    <tr>\n",
              "      <th>Psychoactive substances</th>\n",
              "      <td>8.0</td>\n",
              "      <td>6.0</td>\n",
              "      <td>2.0</td>\n",
              "      <td>0.0</td>\n",
              "      <td>0.0</td>\n",
              "      <td>0.0</td>\n",
              "      <td>0.0</td>\n",
              "      <td>0.0</td>\n",
              "      <td>0.250000</td>\n",
              "    </tr>\n",
              "    <tr>\n",
              "      <th>Stolen goods</th>\n",
              "      <td>1312.0</td>\n",
              "      <td>877.0</td>\n",
              "      <td>278.0</td>\n",
              "      <td>87.0</td>\n",
              "      <td>6.0</td>\n",
              "      <td>30.0</td>\n",
              "      <td>2.0</td>\n",
              "      <td>3.0</td>\n",
              "      <td>0.211890</td>\n",
              "    </tr>\n",
              "  </tbody>\n",
              "</table>\n",
              "<p>76 rows × 9 columns</p>\n",
              "</div>"
            ],
            "text/plain": [
              "                                                                      n_total  \\\n",
              "Officer-defined ethnicity Object of search                                      \n",
              "Asian                     Anything to threaten or harm anyone            63.0   \n",
              "                          Article for use in theft                      101.0   \n",
              "                          Articles for use in criminal damage             8.0   \n",
              "                          Controlled drugs                             1633.0   \n",
              "                          Detailed object of search unavailable           3.0   \n",
              "...                                                                       ...   \n",
              "White                     Goods on which duty has not been paid etc.     15.0   \n",
              "                          N/A                                           312.0   \n",
              "                          Offensive weapons                            1913.0   \n",
              "                          Psychoactive substances                         8.0   \n",
              "                          Stolen goods                                 1312.0   \n",
              "\n",
              "                                                                      n_disposals  \\\n",
              "Officer-defined ethnicity Object of search                                          \n",
              "Asian                     Anything to threaten or harm anyone                55.0   \n",
              "                          Article for use in theft                           80.0   \n",
              "                          Articles for use in criminal damage                 7.0   \n",
              "                          Controlled drugs                                 1148.0   \n",
              "                          Detailed object of search unavailable               3.0   \n",
              "...                                                                           ...   \n",
              "White                     Goods on which duty has not been paid etc.         13.0   \n",
              "                          N/A                                               182.0   \n",
              "                          Offensive weapons                                1494.0   \n",
              "                          Psychoactive substances                             6.0   \n",
              "                          Stolen goods                                      877.0   \n",
              "\n",
              "                                                                      n_arrests  \\\n",
              "Officer-defined ethnicity Object of search                                        \n",
              "Asian                     Anything to threaten or harm anyone               8.0   \n",
              "                          Article for use in theft                         11.0   \n",
              "                          Articles for use in criminal damage               1.0   \n",
              "                          Controlled drugs                                191.0   \n",
              "                          Detailed object of search unavailable             0.0   \n",
              "...                                                                         ...   \n",
              "White                     Goods on which duty has not been paid etc.        1.0   \n",
              "                          N/A                                              31.0   \n",
              "                          Offensive weapons                               327.0   \n",
              "                          Psychoactive substances                           2.0   \n",
              "                          Stolen goods                                    278.0   \n",
              "\n",
              "                                                                      n_comminity_resolutions  \\\n",
              "Officer-defined ethnicity Object of search                                                      \n",
              "Asian                     Anything to threaten or harm anyone                             0.0   \n",
              "                          Article for use in theft                                        7.0   \n",
              "                          Articles for use in criminal damage                             0.0   \n",
              "                          Controlled drugs                                              124.0   \n",
              "                          Detailed object of search unavailable                           0.0   \n",
              "...                                                                                       ...   \n",
              "White                     Goods on which duty has not been paid etc.                      0.0   \n",
              "                          N/A                                                             5.0   \n",
              "                          Offensive weapons                                              39.0   \n",
              "                          Psychoactive substances                                         0.0   \n",
              "                          Stolen goods                                                   87.0   \n",
              "\n",
              "                                                                      n_khat_cannabis_warnings  \\\n",
              "Officer-defined ethnicity Object of search                                                       \n",
              "Asian                     Anything to threaten or harm anyone                              0.0   \n",
              "                          Article for use in theft                                         1.0   \n",
              "                          Articles for use in criminal damage                              0.0   \n",
              "                          Controlled drugs                                                70.0   \n",
              "                          Detailed object of search unavailable                            0.0   \n",
              "...                                                                                        ...   \n",
              "White                     Goods on which duty has not been paid etc.                       0.0   \n",
              "                          N/A                                                              1.0   \n",
              "                          Offensive weapons                                               13.0   \n",
              "                          Psychoactive substances                                          0.0   \n",
              "                          Stolen goods                                                     6.0   \n",
              "\n",
              "                                                                      n_summons  \\\n",
              "Officer-defined ethnicity Object of search                                        \n",
              "Asian                     Anything to threaten or harm anyone               0.0   \n",
              "                          Article for use in theft                          2.0   \n",
              "                          Articles for use in criminal damage               0.0   \n",
              "                          Controlled drugs                                 77.0   \n",
              "                          Detailed object of search unavailable             0.0   \n",
              "...                                                                         ...   \n",
              "White                     Goods on which duty has not been paid etc.        1.0   \n",
              "                          N/A                                               1.0   \n",
              "                          Offensive weapons                                 9.0   \n",
              "                          Psychoactive substances                           0.0   \n",
              "                          Stolen goods                                     30.0   \n",
              "\n",
              "                                                                      n_cautions  \\\n",
              "Officer-defined ethnicity Object of search                                         \n",
              "Asian                     Anything to threaten or harm anyone                0.0   \n",
              "                          Article for use in theft                           0.0   \n",
              "                          Articles for use in criminal damage                0.0   \n",
              "                          Controlled drugs                                   3.0   \n",
              "                          Detailed object of search unavailable              0.0   \n",
              "...                                                                          ...   \n",
              "White                     Goods on which duty has not been paid etc.         0.0   \n",
              "                          N/A                                                0.0   \n",
              "                          Offensive weapons                                  1.0   \n",
              "                          Psychoactive substances                            0.0   \n",
              "                          Stolen goods                                       2.0   \n",
              "\n",
              "                                                                      n_notices  \\\n",
              "Officer-defined ethnicity Object of search                                        \n",
              "Asian                     Anything to threaten or harm anyone               0.0   \n",
              "                          Article for use in theft                          0.0   \n",
              "                          Articles for use in criminal damage               0.0   \n",
              "                          Controlled drugs                                  5.0   \n",
              "                          Detailed object of search unavailable             0.0   \n",
              "...                                                                         ...   \n",
              "White                     Goods on which duty has not been paid etc.        0.0   \n",
              "                          N/A                                               0.0   \n",
              "                          Offensive weapons                                 0.0   \n",
              "                          Psychoactive substances                           0.0   \n",
              "                          Stolen goods                                      3.0   \n",
              "\n",
              "                                                                      arrest_rate  \n",
              "Officer-defined ethnicity Object of search                                         \n",
              "Asian                     Anything to threaten or harm anyone            0.126984  \n",
              "                          Article for use in theft                       0.108911  \n",
              "                          Articles for use in criminal damage            0.125000  \n",
              "                          Controlled drugs                               0.116963  \n",
              "                          Detailed object of search unavailable          0.000000  \n",
              "...                                                                           ...  \n",
              "White                     Goods on which duty has not been paid etc.     0.066667  \n",
              "                          N/A                                            0.099359  \n",
              "                          Offensive weapons                              0.170936  \n",
              "                          Psychoactive substances                        0.250000  \n",
              "                          Stolen goods                                   0.211890  \n",
              "\n",
              "[76 rows x 9 columns]"
            ]
          },
          "metadata": {
            "tags": []
          },
          "execution_count": 23
        }
      ]
    },
    {
      "cell_type": "code",
      "metadata": {
        "id": "iL42IbqNvSzp"
      },
      "source": [
        "# Create new column to represent whether the driver is White\n",
        "df_vt['is_white'] = df_vt['Officer-defined ethnicity'] == 'White'\n",
        "\n",
        "# Remove Object of search with too few data points\n",
        "df_vt_filtered = df_vt[~df_vt['Object of search'].isin(['N/A', 'Evidence of wildlife offences', 'Crossbows',\n",
        "                                                        'Detailed object of search unavailable', 'Psychoactive substances',\n",
        "                                                        'Game or poaching equipment', 'Goods on which duty has not been paid etc.'\n",
        "                                                 'Fireworks'])]"
      ],
      "execution_count": null,
      "outputs": []
    },
    {
      "cell_type": "code",
      "metadata": {
        "id": "jwnVBP3jvSzp",
        "outputId": "59887e8d-c646-48dc-e5de-00baf7cb135c"
      },
      "source": [
        "df_vt_filtered.groupby(['is_white','Object of search']).apply(compute_outcome_stats)"
      ],
      "execution_count": null,
      "outputs": [
        {
          "output_type": "execute_result",
          "data": {
            "text/html": [
              "<div>\n",
              "<style scoped>\n",
              "    .dataframe tbody tr th:only-of-type {\n",
              "        vertical-align: middle;\n",
              "    }\n",
              "\n",
              "    .dataframe tbody tr th {\n",
              "        vertical-align: top;\n",
              "    }\n",
              "\n",
              "    .dataframe thead th {\n",
              "        text-align: right;\n",
              "    }\n",
              "</style>\n",
              "<table border=\"1\" class=\"dataframe\">\n",
              "  <thead>\n",
              "    <tr style=\"text-align: right;\">\n",
              "      <th></th>\n",
              "      <th></th>\n",
              "      <th>n_total</th>\n",
              "      <th>n_disposals</th>\n",
              "      <th>n_arrests</th>\n",
              "      <th>n_comminity_resolutions</th>\n",
              "      <th>n_khat_cannabis_warnings</th>\n",
              "      <th>n_summons</th>\n",
              "      <th>n_cautions</th>\n",
              "      <th>n_notices</th>\n",
              "      <th>arrest_rate</th>\n",
              "    </tr>\n",
              "    <tr>\n",
              "      <th>is_white</th>\n",
              "      <th>Object of search</th>\n",
              "      <th></th>\n",
              "      <th></th>\n",
              "      <th></th>\n",
              "      <th></th>\n",
              "      <th></th>\n",
              "      <th></th>\n",
              "      <th></th>\n",
              "      <th></th>\n",
              "      <th></th>\n",
              "    </tr>\n",
              "  </thead>\n",
              "  <tbody>\n",
              "    <tr>\n",
              "      <th rowspan=\"10\" valign=\"top\">False</th>\n",
              "      <th>Anything to threaten or harm anyone</th>\n",
              "      <td>355.0</td>\n",
              "      <td>284.0</td>\n",
              "      <td>23.0</td>\n",
              "      <td>3.0</td>\n",
              "      <td>0.0</td>\n",
              "      <td>4.0</td>\n",
              "      <td>0.0</td>\n",
              "      <td>0.0</td>\n",
              "      <td>0.064789</td>\n",
              "    </tr>\n",
              "    <tr>\n",
              "      <th>Article for use in theft</th>\n",
              "      <td>514.0</td>\n",
              "      <td>401.0</td>\n",
              "      <td>78.0</td>\n",
              "      <td>12.0</td>\n",
              "      <td>5.0</td>\n",
              "      <td>8.0</td>\n",
              "      <td>0.0</td>\n",
              "      <td>0.0</td>\n",
              "      <td>0.151751</td>\n",
              "    </tr>\n",
              "    <tr>\n",
              "      <th>Articles for use in criminal damage</th>\n",
              "      <td>78.0</td>\n",
              "      <td>64.0</td>\n",
              "      <td>10.0</td>\n",
              "      <td>0.0</td>\n",
              "      <td>0.0</td>\n",
              "      <td>0.0</td>\n",
              "      <td>0.0</td>\n",
              "      <td>0.0</td>\n",
              "      <td>0.128205</td>\n",
              "    </tr>\n",
              "    <tr>\n",
              "      <th>Controlled drugs</th>\n",
              "      <td>6380.0</td>\n",
              "      <td>4502.0</td>\n",
              "      <td>754.0</td>\n",
              "      <td>450.0</td>\n",
              "      <td>196.0</td>\n",
              "      <td>276.0</td>\n",
              "      <td>24.0</td>\n",
              "      <td>10.0</td>\n",
              "      <td>0.118182</td>\n",
              "    </tr>\n",
              "    <tr>\n",
              "      <th>Evidence of offences under the Act</th>\n",
              "      <td>141.0</td>\n",
              "      <td>110.0</td>\n",
              "      <td>15.0</td>\n",
              "      <td>3.0</td>\n",
              "      <td>0.0</td>\n",
              "      <td>1.0</td>\n",
              "      <td>1.0</td>\n",
              "      <td>0.0</td>\n",
              "      <td>0.106383</td>\n",
              "    </tr>\n",
              "    <tr>\n",
              "      <th>Firearms</th>\n",
              "      <td>68.0</td>\n",
              "      <td>56.0</td>\n",
              "      <td>3.0</td>\n",
              "      <td>0.0</td>\n",
              "      <td>0.0</td>\n",
              "      <td>0.0</td>\n",
              "      <td>0.0</td>\n",
              "      <td>0.0</td>\n",
              "      <td>0.044118</td>\n",
              "    </tr>\n",
              "    <tr>\n",
              "      <th>Fireworks</th>\n",
              "      <td>9.0</td>\n",
              "      <td>9.0</td>\n",
              "      <td>0.0</td>\n",
              "      <td>0.0</td>\n",
              "      <td>0.0</td>\n",
              "      <td>0.0</td>\n",
              "      <td>0.0</td>\n",
              "      <td>0.0</td>\n",
              "      <td>0.000000</td>\n",
              "    </tr>\n",
              "    <tr>\n",
              "      <th>Goods on which duty has not been paid etc.</th>\n",
              "      <td>4.0</td>\n",
              "      <td>4.0</td>\n",
              "      <td>0.0</td>\n",
              "      <td>0.0</td>\n",
              "      <td>0.0</td>\n",
              "      <td>0.0</td>\n",
              "      <td>0.0</td>\n",
              "      <td>0.0</td>\n",
              "      <td>0.000000</td>\n",
              "    </tr>\n",
              "    <tr>\n",
              "      <th>Offensive weapons</th>\n",
              "      <td>813.0</td>\n",
              "      <td>705.0</td>\n",
              "      <td>78.0</td>\n",
              "      <td>11.0</td>\n",
              "      <td>1.0</td>\n",
              "      <td>4.0</td>\n",
              "      <td>1.0</td>\n",
              "      <td>0.0</td>\n",
              "      <td>0.095941</td>\n",
              "    </tr>\n",
              "    <tr>\n",
              "      <th>Stolen goods</th>\n",
              "      <td>422.0</td>\n",
              "      <td>307.0</td>\n",
              "      <td>77.0</td>\n",
              "      <td>11.0</td>\n",
              "      <td>1.0</td>\n",
              "      <td>8.0</td>\n",
              "      <td>0.0</td>\n",
              "      <td>0.0</td>\n",
              "      <td>0.182464</td>\n",
              "    </tr>\n",
              "    <tr>\n",
              "      <th rowspan=\"10\" valign=\"top\">True</th>\n",
              "      <th>Anything to threaten or harm anyone</th>\n",
              "      <td>409.0</td>\n",
              "      <td>327.0</td>\n",
              "      <td>67.0</td>\n",
              "      <td>4.0</td>\n",
              "      <td>2.0</td>\n",
              "      <td>5.0</td>\n",
              "      <td>0.0</td>\n",
              "      <td>0.0</td>\n",
              "      <td>0.163814</td>\n",
              "    </tr>\n",
              "    <tr>\n",
              "      <th>Article for use in theft</th>\n",
              "      <td>1574.0</td>\n",
              "      <td>1258.0</td>\n",
              "      <td>232.0</td>\n",
              "      <td>29.0</td>\n",
              "      <td>18.0</td>\n",
              "      <td>20.0</td>\n",
              "      <td>1.0</td>\n",
              "      <td>0.0</td>\n",
              "      <td>0.147395</td>\n",
              "    </tr>\n",
              "    <tr>\n",
              "      <th>Articles for use in criminal damage</th>\n",
              "      <td>380.0</td>\n",
              "      <td>299.0</td>\n",
              "      <td>49.0</td>\n",
              "      <td>13.0</td>\n",
              "      <td>6.0</td>\n",
              "      <td>3.0</td>\n",
              "      <td>1.0</td>\n",
              "      <td>2.0</td>\n",
              "      <td>0.128947</td>\n",
              "    </tr>\n",
              "    <tr>\n",
              "      <th>Controlled drugs</th>\n",
              "      <td>13114.0</td>\n",
              "      <td>9477.0</td>\n",
              "      <td>1506.0</td>\n",
              "      <td>892.0</td>\n",
              "      <td>558.0</td>\n",
              "      <td>379.0</td>\n",
              "      <td>57.0</td>\n",
              "      <td>17.0</td>\n",
              "      <td>0.114839</td>\n",
              "    </tr>\n",
              "    <tr>\n",
              "      <th>Evidence of offences under the Act</th>\n",
              "      <td>242.0</td>\n",
              "      <td>188.0</td>\n",
              "      <td>36.0</td>\n",
              "      <td>10.0</td>\n",
              "      <td>2.0</td>\n",
              "      <td>4.0</td>\n",
              "      <td>0.0</td>\n",
              "      <td>0.0</td>\n",
              "      <td>0.148760</td>\n",
              "    </tr>\n",
              "    <tr>\n",
              "      <th>Firearms</th>\n",
              "      <td>77.0</td>\n",
              "      <td>59.0</td>\n",
              "      <td>12.0</td>\n",
              "      <td>4.0</td>\n",
              "      <td>0.0</td>\n",
              "      <td>0.0</td>\n",
              "      <td>1.0</td>\n",
              "      <td>0.0</td>\n",
              "      <td>0.155844</td>\n",
              "    </tr>\n",
              "    <tr>\n",
              "      <th>Fireworks</th>\n",
              "      <td>55.0</td>\n",
              "      <td>47.0</td>\n",
              "      <td>2.0</td>\n",
              "      <td>6.0</td>\n",
              "      <td>0.0</td>\n",
              "      <td>0.0</td>\n",
              "      <td>0.0</td>\n",
              "      <td>0.0</td>\n",
              "      <td>0.036364</td>\n",
              "    </tr>\n",
              "    <tr>\n",
              "      <th>Goods on which duty has not been paid etc.</th>\n",
              "      <td>15.0</td>\n",
              "      <td>13.0</td>\n",
              "      <td>1.0</td>\n",
              "      <td>0.0</td>\n",
              "      <td>0.0</td>\n",
              "      <td>1.0</td>\n",
              "      <td>0.0</td>\n",
              "      <td>0.0</td>\n",
              "      <td>0.066667</td>\n",
              "    </tr>\n",
              "    <tr>\n",
              "      <th>Offensive weapons</th>\n",
              "      <td>1913.0</td>\n",
              "      <td>1494.0</td>\n",
              "      <td>327.0</td>\n",
              "      <td>39.0</td>\n",
              "      <td>13.0</td>\n",
              "      <td>9.0</td>\n",
              "      <td>1.0</td>\n",
              "      <td>0.0</td>\n",
              "      <td>0.170936</td>\n",
              "    </tr>\n",
              "    <tr>\n",
              "      <th>Stolen goods</th>\n",
              "      <td>1312.0</td>\n",
              "      <td>877.0</td>\n",
              "      <td>278.0</td>\n",
              "      <td>87.0</td>\n",
              "      <td>6.0</td>\n",
              "      <td>30.0</td>\n",
              "      <td>2.0</td>\n",
              "      <td>3.0</td>\n",
              "      <td>0.211890</td>\n",
              "    </tr>\n",
              "  </tbody>\n",
              "</table>\n",
              "</div>"
            ],
            "text/plain": [
              "                                                     n_total  n_disposals  \\\n",
              "is_white Object of search                                                   \n",
              "False    Anything to threaten or harm anyone           355.0        284.0   \n",
              "         Article for use in theft                      514.0        401.0   \n",
              "         Articles for use in criminal damage            78.0         64.0   \n",
              "         Controlled drugs                             6380.0       4502.0   \n",
              "         Evidence of offences under the Act            141.0        110.0   \n",
              "         Firearms                                       68.0         56.0   \n",
              "         Fireworks                                       9.0          9.0   \n",
              "         Goods on which duty has not been paid etc.      4.0          4.0   \n",
              "         Offensive weapons                             813.0        705.0   \n",
              "         Stolen goods                                  422.0        307.0   \n",
              "True     Anything to threaten or harm anyone           409.0        327.0   \n",
              "         Article for use in theft                     1574.0       1258.0   \n",
              "         Articles for use in criminal damage           380.0        299.0   \n",
              "         Controlled drugs                            13114.0       9477.0   \n",
              "         Evidence of offences under the Act            242.0        188.0   \n",
              "         Firearms                                       77.0         59.0   \n",
              "         Fireworks                                      55.0         47.0   \n",
              "         Goods on which duty has not been paid etc.     15.0         13.0   \n",
              "         Offensive weapons                            1913.0       1494.0   \n",
              "         Stolen goods                                 1312.0        877.0   \n",
              "\n",
              "                                                     n_arrests  \\\n",
              "is_white Object of search                                        \n",
              "False    Anything to threaten or harm anyone              23.0   \n",
              "         Article for use in theft                         78.0   \n",
              "         Articles for use in criminal damage              10.0   \n",
              "         Controlled drugs                                754.0   \n",
              "         Evidence of offences under the Act               15.0   \n",
              "         Firearms                                          3.0   \n",
              "         Fireworks                                         0.0   \n",
              "         Goods on which duty has not been paid etc.        0.0   \n",
              "         Offensive weapons                                78.0   \n",
              "         Stolen goods                                     77.0   \n",
              "True     Anything to threaten or harm anyone              67.0   \n",
              "         Article for use in theft                        232.0   \n",
              "         Articles for use in criminal damage              49.0   \n",
              "         Controlled drugs                               1506.0   \n",
              "         Evidence of offences under the Act               36.0   \n",
              "         Firearms                                         12.0   \n",
              "         Fireworks                                         2.0   \n",
              "         Goods on which duty has not been paid etc.        1.0   \n",
              "         Offensive weapons                               327.0   \n",
              "         Stolen goods                                    278.0   \n",
              "\n",
              "                                                     n_comminity_resolutions  \\\n",
              "is_white Object of search                                                      \n",
              "False    Anything to threaten or harm anyone                             3.0   \n",
              "         Article for use in theft                                       12.0   \n",
              "         Articles for use in criminal damage                             0.0   \n",
              "         Controlled drugs                                              450.0   \n",
              "         Evidence of offences under the Act                              3.0   \n",
              "         Firearms                                                        0.0   \n",
              "         Fireworks                                                       0.0   \n",
              "         Goods on which duty has not been paid etc.                      0.0   \n",
              "         Offensive weapons                                              11.0   \n",
              "         Stolen goods                                                   11.0   \n",
              "True     Anything to threaten or harm anyone                             4.0   \n",
              "         Article for use in theft                                       29.0   \n",
              "         Articles for use in criminal damage                            13.0   \n",
              "         Controlled drugs                                              892.0   \n",
              "         Evidence of offences under the Act                             10.0   \n",
              "         Firearms                                                        4.0   \n",
              "         Fireworks                                                       6.0   \n",
              "         Goods on which duty has not been paid etc.                      0.0   \n",
              "         Offensive weapons                                              39.0   \n",
              "         Stolen goods                                                   87.0   \n",
              "\n",
              "                                                     n_khat_cannabis_warnings  \\\n",
              "is_white Object of search                                                       \n",
              "False    Anything to threaten or harm anyone                              0.0   \n",
              "         Article for use in theft                                         5.0   \n",
              "         Articles for use in criminal damage                              0.0   \n",
              "         Controlled drugs                                               196.0   \n",
              "         Evidence of offences under the Act                               0.0   \n",
              "         Firearms                                                         0.0   \n",
              "         Fireworks                                                        0.0   \n",
              "         Goods on which duty has not been paid etc.                       0.0   \n",
              "         Offensive weapons                                                1.0   \n",
              "         Stolen goods                                                     1.0   \n",
              "True     Anything to threaten or harm anyone                              2.0   \n",
              "         Article for use in theft                                        18.0   \n",
              "         Articles for use in criminal damage                              6.0   \n",
              "         Controlled drugs                                               558.0   \n",
              "         Evidence of offences under the Act                               2.0   \n",
              "         Firearms                                                         0.0   \n",
              "         Fireworks                                                        0.0   \n",
              "         Goods on which duty has not been paid etc.                       0.0   \n",
              "         Offensive weapons                                               13.0   \n",
              "         Stolen goods                                                     6.0   \n",
              "\n",
              "                                                     n_summons  n_cautions  \\\n",
              "is_white Object of search                                                    \n",
              "False    Anything to threaten or harm anyone               4.0         0.0   \n",
              "         Article for use in theft                          8.0         0.0   \n",
              "         Articles for use in criminal damage               0.0         0.0   \n",
              "         Controlled drugs                                276.0        24.0   \n",
              "         Evidence of offences under the Act                1.0         1.0   \n",
              "         Firearms                                          0.0         0.0   \n",
              "         Fireworks                                         0.0         0.0   \n",
              "         Goods on which duty has not been paid etc.        0.0         0.0   \n",
              "         Offensive weapons                                 4.0         1.0   \n",
              "         Stolen goods                                      8.0         0.0   \n",
              "True     Anything to threaten or harm anyone               5.0         0.0   \n",
              "         Article for use in theft                         20.0         1.0   \n",
              "         Articles for use in criminal damage               3.0         1.0   \n",
              "         Controlled drugs                                379.0        57.0   \n",
              "         Evidence of offences under the Act                4.0         0.0   \n",
              "         Firearms                                          0.0         1.0   \n",
              "         Fireworks                                         0.0         0.0   \n",
              "         Goods on which duty has not been paid etc.        1.0         0.0   \n",
              "         Offensive weapons                                 9.0         1.0   \n",
              "         Stolen goods                                     30.0         2.0   \n",
              "\n",
              "                                                     n_notices  arrest_rate  \n",
              "is_white Object of search                                                    \n",
              "False    Anything to threaten or harm anyone               0.0     0.064789  \n",
              "         Article for use in theft                          0.0     0.151751  \n",
              "         Articles for use in criminal damage               0.0     0.128205  \n",
              "         Controlled drugs                                 10.0     0.118182  \n",
              "         Evidence of offences under the Act                0.0     0.106383  \n",
              "         Firearms                                          0.0     0.044118  \n",
              "         Fireworks                                         0.0     0.000000  \n",
              "         Goods on which duty has not been paid etc.        0.0     0.000000  \n",
              "         Offensive weapons                                 0.0     0.095941  \n",
              "         Stolen goods                                      0.0     0.182464  \n",
              "True     Anything to threaten or harm anyone               0.0     0.163814  \n",
              "         Article for use in theft                          0.0     0.147395  \n",
              "         Articles for use in criminal damage               2.0     0.128947  \n",
              "         Controlled drugs                                 17.0     0.114839  \n",
              "         Evidence of offences under the Act                0.0     0.148760  \n",
              "         Firearms                                          0.0     0.155844  \n",
              "         Fireworks                                         0.0     0.036364  \n",
              "         Goods on which duty has not been paid etc.        0.0     0.066667  \n",
              "         Offensive weapons                                 0.0     0.170936  \n",
              "         Stolen goods                                      3.0     0.211890  "
            ]
          },
          "metadata": {
            "tags": []
          },
          "execution_count": 25
        }
      ]
    },
    {
      "cell_type": "markdown",
      "metadata": {
        "id": "x8peG5f9vSzq"
      },
      "source": [
        "### Visualize stop outcome and  Object of search"
      ]
    },
    {
      "cell_type": "code",
      "metadata": {
        "id": "9Oq8whj9vSzq",
        "outputId": "edc23efc-b2eb-4528-daf7-0c906b4c019e"
      },
      "source": [
        "ethnicity_stats = df_vt_filtered.groupby(['Object of search', 'Officer-defined ethnicity']).apply(compute_outcome_stats).unstack()\n",
        "fig, axes = plt.subplots(nrows=1, ncols=2, figsize=figsize)\n",
        "ethnicity_stats.plot.bar(y='arrest_rate', ax=axes[0], title='Arrest Rate By Ethnicity and Object of search')\n",
        "ethnicity_stats.plot.bar(y='n_summons', ax=axes[1], title='Summons By Ethnicity and Object of search')"
      ],
      "execution_count": null,
      "outputs": [
        {
          "output_type": "execute_result",
          "data": {
            "text/plain": [
              "<AxesSubplot:title={'center':'Summons By Ethnicity and Object of search'}, xlabel='Object of search'>"
            ]
          },
          "metadata": {
            "tags": []
          },
          "execution_count": 26
        },
        {
          "output_type": "display_data",
          "data": {
            "image/png": "[encoded data removed]",
            "text/plain": [
              "<Figure size 1152x576 with 2 Axes>"
            ]
          },
          "metadata": {
            "tags": [],
            "needs_background": "light"
          }
        }
      ]
    },
    {
      "cell_type": "code",
      "metadata": {
        "id": "tfeYZVnlvSzr",
        "outputId": "3a83b92d-6c3f-4abc-d3ce-8ec37c40cebe"
      },
      "source": [
        "gender_stats = df_vt_filtered.groupby(['Object of search','Gender']).apply(compute_outcome_stats).unstack()\n",
        "fig, axes = plt.subplots(nrows=1, ncols=2, figsize=figsize)\n",
        "ax_gender_arrests = gender_stats.plot.bar(y='arrest_rate', ax=axes[0], title='Arrests By Gender and Object of search', figsize=figsize)\n",
        "ax_gender_citations = gender_stats.plot.bar(y='n_summons', ax=axes[1], title='Summons By Gender and Object of search', figsize=figsize)"
      ],
      "execution_count": null,
      "outputs": [
        {
          "output_type": "display_data",
          "data": {
            "image/png": "[encoded data removed]",
            "text/plain": [
              "<Figure size 1152x576 with 2 Axes>"
            ]
          },
          "metadata": {
            "tags": [],
            "needs_background": "light"
          }
        }
      ]
    },
    {
      "cell_type": "code",
      "metadata": {
        "id": "tcsP7tU8vSzr"
      },
      "source": [
        ""
      ],
      "execution_count": null,
      "outputs": []
    }
  ]
}